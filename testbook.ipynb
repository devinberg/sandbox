{
 "cells": [
  {
   "cell_type": "code",
   "execution_count": 1,
   "metadata": {
    "jupyter": {
     "source_hidden": true
    },
    "papermill": {
     "duration": 0.012711,
     "end_time": "2020-08-01T02:08:26.300361",
     "exception": false,
     "start_time": "2020-08-01T02:08:26.287650",
     "status": "completed"
    },
    "tags": [
     "injected-parameters"
    ]
   },
   "outputs": [],
   "source": [
    "# Parameters\n",
    "secretsPath = \"/home/runner/work/_temp/secrets.json\"\n",
    "a = 27\n"
   ]
  },
  {
   "cell_type": "code",
   "execution_count": 2,
   "metadata": {
    "jupyter": {
     "source_hidden": true
    },
    "papermill": {
     "duration": 0.009204,
     "end_time": "2020-08-01T02:08:26.312046",
     "exception": false,
     "start_time": "2020-08-01T02:08:26.302842",
     "status": "completed"
    },
    "tags": []
   },
   "outputs": [
    {
     "name": "stdout",
     "output_type": "stream",
     "text": [
      "date and time = 01/08/2020 02:08:26\n"
     ]
    }
   ],
   "source": [
    "from datetime import datetime\n",
    "\n",
    "# datetime object containing current date and time\n",
    "now = datetime.now()\n",
    "\n",
    "# dd/mm/YY H:M:S\n",
    "dt_string = now.strftime(\"%d/%m/%Y %H:%M:%S\")\n",
    "print(\"date and time =\", dt_string)\t"
   ]
  }
 ],
 "metadata": {
  "kernelspec": {
   "display_name": "Python 3",
   "language": "python",
   "name": "python3"
  },
  "language_info": {
   "codemirror_mode": {
    "name": "ipython",
    "version": 3
   },
   "file_extension": ".py",
   "mimetype": "text/x-python",
   "name": "python",
   "nbconvert_exporter": "python",
   "pygments_lexer": "ipython3",
   "version": "3.8.5"
  },
  "papermill": {
   "duration": 1.244791,
   "end_time": "2020-08-01T02:08:26.519560",
   "environment_variables": {},
   "exception": null,
   "input_path": "testbook.ipynb",
   "output_path": "/home/runner/work/_temp/nb-runner/testbook.ipynb",
   "parameters": {
    "a": 27,
    "secretsPath": "/home/runner/work/_temp/secrets.json"
   },
   "start_time": "2020-08-01T02:08:25.274769",
   "version": "1.1.16"
  }
 },
 "nbformat": 4,
 "nbformat_minor": 4
}