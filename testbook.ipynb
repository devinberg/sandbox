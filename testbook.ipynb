{
 "cells": [
  {
   "cell_type": "code",
   "execution_count": 1,
   "metadata": {
    "jupyter": {
     "source_hidden": true
    },
    "papermill": {
     "duration": 0.0106,
     "end_time": "2020-08-03T01:26:41.253258",
     "exception": false,
     "start_time": "2020-08-03T01:26:41.242658",
     "status": "completed"
    },
    "tags": [
     "injected-parameters"
    ]
   },
   "outputs": [],
   "source": [
    "# Parameters\n",
    "secretsPath = \"/home/runner/work/_temp/secrets.json\"\n",
    "a = 27\n"
   ]
  },
  {
   "cell_type": "code",
   "execution_count": 2,
   "metadata": {
    "jupyter": {
     "source_hidden": true
    },
    "papermill": {
     "duration": 0.009184,
     "end_time": "2020-08-03T01:26:41.265148",
     "exception": false,
     "start_time": "2020-08-03T01:26:41.255964",
     "status": "completed"
    },
    "tags": []
   },
   "outputs": [
    {
     "name": "stdout",
     "output_type": "stream",
     "text": [
      "date and time = 03/08/2020 01:26:41\n"
     ]
    }
   ],
   "source": [
    "from datetime import datetime\n",
    "\n",
    "# datetime object containing current date and time\n",
    "now = datetime.now()\n",
    "\n",
    "# dd/mm/YY H:M:S\n",
    "dt_string = now.strftime(\"%d/%m/%Y %H:%M:%S\")\n",
    "print(\"date and time =\", dt_string)\t"
   ]
  }
 ],
 "metadata": {
  "kernelspec": {
   "display_name": "Python 3",
   "language": "python",
   "name": "python3"
  },
  "language_info": {
   "codemirror_mode": {
    "name": "ipython",
    "version": 3
   },
   "file_extension": ".py",
   "mimetype": "text/x-python",
   "name": "python",
   "nbconvert_exporter": "python",
   "pygments_lexer": "ipython3",
   "version": "3.8.5"
  },
  "papermill": {
   "duration": 1.12596,
   "end_time": "2020-08-03T01:26:41.472491",
   "environment_variables": {},
   "exception": null,
   "input_path": "testbook.ipynb",
   "output_path": "/home/runner/work/_temp/nb-runner/testbook.ipynb",
   "parameters": {
    "a": 27,
    "secretsPath": "/home/runner/work/_temp/secrets.json"
   },
   "start_time": "2020-08-03T01:26:40.346531",
   "version": "1.1.16"
  }
 },
 "nbformat": 4,
 "nbformat_minor": 4
}