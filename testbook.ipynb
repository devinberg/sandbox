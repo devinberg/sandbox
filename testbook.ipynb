{
 "cells": [
  {
   "cell_type": "code",
   "execution_count": 1,
   "metadata": {
    "jupyter": {
     "source_hidden": true
    },
    "papermill": {
     "duration": 0.009995,
     "end_time": "2020-08-03T01:16:45.720400",
     "exception": false,
     "start_time": "2020-08-03T01:16:45.710405",
     "status": "completed"
    },
    "tags": [
     "injected-parameters"
    ]
   },
   "outputs": [],
   "source": [
    "# Parameters\n",
    "secretsPath = \"/home/runner/work/_temp/secrets.json\"\n",
    "a = 27\n"
   ]
  },
  {
   "cell_type": "code",
   "execution_count": 2,
   "metadata": {
    "jupyter": {
     "source_hidden": true
    },
    "papermill": {
     "duration": 0.00965,
     "end_time": "2020-08-03T01:16:45.732580",
     "exception": false,
     "start_time": "2020-08-03T01:16:45.722930",
     "status": "completed"
    },
    "tags": []
   },
   "outputs": [
    {
     "name": "stdout",
     "output_type": "stream",
     "text": [
      "date and time = 03/08/2020 01:16:45\n"
     ]
    }
   ],
   "source": [
    "from datetime import datetime\n",
    "\n",
    "# datetime object containing current date and time\n",
    "now = datetime.now()\n",
    "\n",
    "# dd/mm/YY H:M:S\n",
    "dt_string = now.strftime(\"%d/%m/%Y %H:%M:%S\")\n",
    "print(\"date and time =\", dt_string)\t"
   ]
  }
 ],
 "metadata": {
  "kernelspec": {
   "display_name": "Python 3",
   "language": "python",
   "name": "python3"
  },
  "language_info": {
   "codemirror_mode": {
    "name": "ipython",
    "version": 3
   },
   "file_extension": ".py",
   "mimetype": "text/x-python",
   "name": "python",
   "nbconvert_exporter": "python",
   "pygments_lexer": "ipython3",
   "version": "3.8.5"
  },
  "papermill": {
   "duration": 1.06881,
   "end_time": "2020-08-03T01:16:45.939609",
   "environment_variables": {},
   "exception": null,
   "input_path": "testbook.ipynb",
   "output_path": "/home/runner/work/_temp/nb-runner/testbook.ipynb",
   "parameters": {
    "a": 27,
    "secretsPath": "/home/runner/work/_temp/secrets.json"
   },
   "start_time": "2020-08-03T01:16:44.870799",
   "version": "1.1.16"
  }
 },
 "nbformat": 4,
 "nbformat_minor": 4
}