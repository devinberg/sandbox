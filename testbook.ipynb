{
 "cells": [
  {
   "cell_type": "code",
   "execution_count": 1,
   "metadata": {
    "execution": {
     "iopub.execute_input": "2020-09-11T01:46:43.969953Z",
     "iopub.status.busy": "2020-09-11T01:46:43.968979Z",
     "iopub.status.idle": "2020-09-11T01:46:43.971007Z",
     "shell.execute_reply": "2020-09-11T01:46:43.971745Z"
    },
    "jupyter": {
     "source_hidden": true
    },
    "papermill": {
     "duration": 0.012671,
     "end_time": "2020-09-11T01:46:43.972158",
     "exception": false,
     "start_time": "2020-09-11T01:46:43.959487",
     "status": "completed"
    },
    "tags": [
     "injected-parameters"
    ]
   },
   "outputs": [],
   "source": [
    "# Parameters\n",
    "secretsPath = \"/home/runner/work/_temp/secrets.json\"\n",
    "a = 27\n"
   ]
  },
  {
   "cell_type": "code",
   "execution_count": 2,
   "metadata": {
    "execution": {
     "iopub.execute_input": "2020-09-11T01:46:43.983985Z",
     "iopub.status.busy": "2020-09-11T01:46:43.983435Z",
     "iopub.status.idle": "2020-09-11T01:46:43.985789Z",
     "shell.execute_reply": "2020-09-11T01:46:43.986220Z"
    },
    "jupyter": {
     "source_hidden": true
    },
    "papermill": {
     "duration": 0.011588,
     "end_time": "2020-09-11T01:46:43.986351",
     "exception": false,
     "start_time": "2020-09-11T01:46:43.974763",
     "status": "completed"
    },
    "tags": []
   },
   "outputs": [
    {
     "name": "stdout",
     "output_type": "stream",
     "text": [
      "date and time = 11/09/2020 01:46:43\n"
     ]
    }
   ],
   "source": [
    "from datetime import datetime\n",
    "\n",
    "# datetime object containing current date and time\n",
    "now = datetime.now()\n",
    "\n",
    "# dd/mm/YY H:M:S\n",
    "dt_string = now.strftime(\"%d/%m/%Y %H:%M:%S\")\n",
    "print(\"date and time =\", dt_string)\t"
   ]
  }
 ],
 "metadata": {
  "kernelspec": {
   "display_name": "Python 3",
   "language": "python",
   "name": "python3"
  },
  "language_info": {
   "codemirror_mode": {
    "name": "ipython",
    "version": 3
   },
   "file_extension": ".py",
   "mimetype": "text/x-python",
   "name": "python",
   "nbconvert_exporter": "python",
   "pygments_lexer": "ipython3",
   "version": "3.8.5"
  },
  "papermill": {
   "duration": 1.84647,
   "end_time": "2020-09-11T01:46:44.194683",
   "environment_variables": {},
   "exception": null,
   "input_path": "testbook.ipynb",
   "output_path": "testbook.ipynb",
   "parameters": {
    "a": 27,
    "secretsPath": "/home/runner/work/_temp/secrets.json"
   },
   "start_time": "2020-09-11T01:46:42.348213",
   "version": "1.1.16"
  }
 },
 "nbformat": 4,
 "nbformat_minor": 4
}